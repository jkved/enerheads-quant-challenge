{
 "cells": [
  {
   "cell_type": "code",
   "execution_count": null,
   "metadata": {},
   "outputs": [],
   "source": []
  },
  {
   "cell_type": "markdown",
   "metadata": {},
   "source": [
    "To run pyomo you'll need GLPK package:\n",
    "\n",
    "Download solver for pyomo from here: https://sourceforge.net/projects/winglpk/\n",
    "\n",
    "Extract it to some folder and specify path to ./glpsol executable for pyomo solver."
   ]
  },
  {
   "cell_type": "code",
   "execution_count": null,
   "metadata": {},
   "outputs": [],
   "source": []
  }
 ],
 "metadata": {
  "language_info": {
   "name": "python"
  }
 },
 "nbformat": 4,
 "nbformat_minor": 2
}
